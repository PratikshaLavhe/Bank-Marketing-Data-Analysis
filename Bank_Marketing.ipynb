{
  "nbformat": 4,
  "nbformat_minor": 0,
  "metadata": {
    "kernelspec": {
      "display_name": "Python 3",
      "language": "python",
      "name": "python3"
    },
    "language_info": {
      "codemirror_mode": {
        "name": "ipython",
        "version": 3
      },
      "file_extension": ".py",
      "mimetype": "text/x-python",
      "name": "python",
      "nbconvert_exporter": "python",
      "pygments_lexer": "ipython3",
      "version": "3.7.6"
    },
    "colab": {
      "name": "Bank_Marketing.ipynb",
      "provenance": [],
      "collapsed_sections": []
    }
  },
  "cells": [
    {
      "cell_type": "markdown",
      "metadata": {
        "id": "RuOvQ5AB9lAR"
      },
      "source": [
        "## Import Libraries"
      ]
    },
    {
      "cell_type": "code",
      "metadata": {
        "_cell_guid": "b1076dfc-b9ad-4769-8c92-a6c4dae69d19",
        "_uuid": "8f2839f25d086af736a60e9eeb907d3b93b6e0e5",
        "id": "GRarQaGf9lAV"
      },
      "source": [
        "#import linear algebra and data manipulation libraries\n",
        "import numpy as np\n",
        "import pandas as pd\n",
        "#import standard visualization\n",
        "import matplotlib.pyplot as plt\n",
        "import seaborn as sns"
      ],
      "execution_count": 1,
      "outputs": []
    },
    {
      "cell_type": "markdown",
      "metadata": {
        "_uuid": "d057ad9813d19401880ce8b371182932116a1f7c",
        "id": "AGDTDWhZ9lAX"
      },
      "source": [
        "## Import Data"
      ]
    },
    {
      "cell_type": "markdown",
      "metadata": {
        "_uuid": "5a4dadfb35b585a67718e07b59e9da0eebe61763",
        "id": "xrOOFUyQ9lAY"
      },
      "source": [
        "First of all to perform the analysis, we have to import the data:"
      ]
    },
    {
      "cell_type": "code",
      "metadata": {
        "_uuid": "a9e0b0369f8fae1a5698b145fa7617324442ddc9",
        "id": "1IzOTJtc9lAY"
      },
      "source": [
        "#import dataset\n",
        "\n",
        "df = pd.read_csv('/content/bank.csv', delimiter=';')"
      ],
      "execution_count": 3,
      "outputs": []
    },
    {
      "cell_type": "code",
      "metadata": {
        "id": "MGxeJC939lAZ"
      },
      "source": [
        "df.rename(columns={'y':'deposit'}, inplace=True)"
      ],
      "execution_count": 4,
      "outputs": []
    },
    {
      "cell_type": "code",
      "metadata": {
        "_uuid": "266f8b3610c11aa8e0daad0e60f8f6ae47a5835f",
        "id": "DDl7nOjL9lAa",
        "colab": {
          "base_uri": "https://localhost:8080/",
          "height": 226
        },
        "outputId": "e14f08d7-afa0-4b4d-eb62-3f40cc2c3e53"
      },
      "source": [
        "#display first 5 rows of dataset \n",
        "df.head()"
      ],
      "execution_count": 5,
      "outputs": [
        {
          "output_type": "execute_result",
          "data": {
            "text/html": [
              "<div>\n",
              "<style scoped>\n",
              "    .dataframe tbody tr th:only-of-type {\n",
              "        vertical-align: middle;\n",
              "    }\n",
              "\n",
              "    .dataframe tbody tr th {\n",
              "        vertical-align: top;\n",
              "    }\n",
              "\n",
              "    .dataframe thead th {\n",
              "        text-align: right;\n",
              "    }\n",
              "</style>\n",
              "<table border=\"1\" class=\"dataframe\">\n",
              "  <thead>\n",
              "    <tr style=\"text-align: right;\">\n",
              "      <th></th>\n",
              "      <th>age</th>\n",
              "      <th>job</th>\n",
              "      <th>marital</th>\n",
              "      <th>education</th>\n",
              "      <th>default</th>\n",
              "      <th>balance</th>\n",
              "      <th>housing</th>\n",
              "      <th>loan</th>\n",
              "      <th>contact</th>\n",
              "      <th>day</th>\n",
              "      <th>month</th>\n",
              "      <th>duration</th>\n",
              "      <th>campaign</th>\n",
              "      <th>pdays</th>\n",
              "      <th>previous</th>\n",
              "      <th>poutcome</th>\n",
              "      <th>deposit</th>\n",
              "    </tr>\n",
              "  </thead>\n",
              "  <tbody>\n",
              "    <tr>\n",
              "      <th>0</th>\n",
              "      <td>30</td>\n",
              "      <td>unemployed</td>\n",
              "      <td>married</td>\n",
              "      <td>primary</td>\n",
              "      <td>no</td>\n",
              "      <td>1787</td>\n",
              "      <td>no</td>\n",
              "      <td>no</td>\n",
              "      <td>cellular</td>\n",
              "      <td>19</td>\n",
              "      <td>oct</td>\n",
              "      <td>79</td>\n",
              "      <td>1</td>\n",
              "      <td>-1</td>\n",
              "      <td>0</td>\n",
              "      <td>unknown</td>\n",
              "      <td>no</td>\n",
              "    </tr>\n",
              "    <tr>\n",
              "      <th>1</th>\n",
              "      <td>33</td>\n",
              "      <td>services</td>\n",
              "      <td>married</td>\n",
              "      <td>secondary</td>\n",
              "      <td>no</td>\n",
              "      <td>4789</td>\n",
              "      <td>yes</td>\n",
              "      <td>yes</td>\n",
              "      <td>cellular</td>\n",
              "      <td>11</td>\n",
              "      <td>may</td>\n",
              "      <td>220</td>\n",
              "      <td>1</td>\n",
              "      <td>339</td>\n",
              "      <td>4</td>\n",
              "      <td>failure</td>\n",
              "      <td>no</td>\n",
              "    </tr>\n",
              "    <tr>\n",
              "      <th>2</th>\n",
              "      <td>35</td>\n",
              "      <td>management</td>\n",
              "      <td>single</td>\n",
              "      <td>tertiary</td>\n",
              "      <td>no</td>\n",
              "      <td>1350</td>\n",
              "      <td>yes</td>\n",
              "      <td>no</td>\n",
              "      <td>cellular</td>\n",
              "      <td>16</td>\n",
              "      <td>apr</td>\n",
              "      <td>185</td>\n",
              "      <td>1</td>\n",
              "      <td>330</td>\n",
              "      <td>1</td>\n",
              "      <td>failure</td>\n",
              "      <td>no</td>\n",
              "    </tr>\n",
              "    <tr>\n",
              "      <th>3</th>\n",
              "      <td>30</td>\n",
              "      <td>management</td>\n",
              "      <td>married</td>\n",
              "      <td>tertiary</td>\n",
              "      <td>no</td>\n",
              "      <td>1476</td>\n",
              "      <td>yes</td>\n",
              "      <td>yes</td>\n",
              "      <td>unknown</td>\n",
              "      <td>3</td>\n",
              "      <td>jun</td>\n",
              "      <td>199</td>\n",
              "      <td>4</td>\n",
              "      <td>-1</td>\n",
              "      <td>0</td>\n",
              "      <td>unknown</td>\n",
              "      <td>no</td>\n",
              "    </tr>\n",
              "    <tr>\n",
              "      <th>4</th>\n",
              "      <td>59</td>\n",
              "      <td>blue-collar</td>\n",
              "      <td>married</td>\n",
              "      <td>secondary</td>\n",
              "      <td>no</td>\n",
              "      <td>0</td>\n",
              "      <td>yes</td>\n",
              "      <td>no</td>\n",
              "      <td>unknown</td>\n",
              "      <td>5</td>\n",
              "      <td>may</td>\n",
              "      <td>226</td>\n",
              "      <td>1</td>\n",
              "      <td>-1</td>\n",
              "      <td>0</td>\n",
              "      <td>unknown</td>\n",
              "      <td>no</td>\n",
              "    </tr>\n",
              "  </tbody>\n",
              "</table>\n",
              "</div>"
            ],
            "text/plain": [
              "   age          job  marital  education  ... pdays  previous poutcome deposit\n",
              "0   30   unemployed  married    primary  ...    -1         0  unknown      no\n",
              "1   33     services  married  secondary  ...   339         4  failure      no\n",
              "2   35   management   single   tertiary  ...   330         1  failure      no\n",
              "3   30   management  married   tertiary  ...    -1         0  unknown      no\n",
              "4   59  blue-collar  married  secondary  ...    -1         0  unknown      no\n",
              "\n",
              "[5 rows x 17 columns]"
            ]
          },
          "metadata": {},
          "execution_count": 5
        }
      ]
    },
    {
      "cell_type": "markdown",
      "metadata": {
        "_uuid": "bf287fe95fb1b66e9356968471927ebadb5709a3",
        "id": "-e3xDT6H9lAb"
      },
      "source": [
        "## Data Exploration"
      ]
    },
    {
      "cell_type": "markdown",
      "metadata": {
        "_uuid": "5b3c742e8301172bed5e08f19aebf847733b1804",
        "id": "m00nHOec9lAc"
      },
      "source": [
        "After we imported the dataset, we have to look at the total number of rows in the dataset and analyze the number of missing values."
      ]
    },
    {
      "cell_type": "code",
      "metadata": {
        "_uuid": "d2743db4357220306a9eac9702dd66689a58c761",
        "id": "HEUSdlBQ9lAd",
        "colab": {
          "base_uri": "https://localhost:8080/"
        },
        "outputId": "b21959d6-92c9-4a4f-a810-9ce96386a29e"
      },
      "source": [
        "# number of rows in dataset\n",
        "\n",
        "print(\"Bank marketing dataset consists of {rows} rows.\".format(rows = len(df)))"
      ],
      "execution_count": 6,
      "outputs": [
        {
          "output_type": "stream",
          "name": "stdout",
          "text": [
            "Bank marketing dataset consists of 4521 rows.\n"
          ]
        }
      ]
    },
    {
      "cell_type": "code",
      "metadata": {
        "_uuid": "09d1ee4ba165f08cd0bc71504ac494afc28c9a46",
        "id": "UJy9m21j9lAd",
        "colab": {
          "base_uri": "https://localhost:8080/"
        },
        "outputId": "e2f5665d-6cdd-4107-8cb7-9c0bdc0e5985"
      },
      "source": [
        "#find percentage of missing values for each column\n",
        "missing_values = df.isnull().mean()*100\n",
        "\n",
        "missing_values.sum()"
      ],
      "execution_count": 7,
      "outputs": [
        {
          "output_type": "execute_result",
          "data": {
            "text/plain": [
              "0.0"
            ]
          },
          "metadata": {},
          "execution_count": 7
        }
      ]
    },
    {
      "cell_type": "markdown",
      "metadata": {
        "_uuid": "9953cbc2a8e6fce30f123a482ec4cfb60ee5440b",
        "id": "6NjQ6kc79lAe"
      },
      "source": [
        "So we see that there are no missing values."
      ]
    },
    {
      "cell_type": "markdown",
      "metadata": {
        "_uuid": "9439da6f9f0c817e948da870b401d6501a7e61e8",
        "id": "XIm5mXRC9lAe"
      },
      "source": [
        "### Categorical columns exploration"
      ]
    },
    {
      "cell_type": "markdown",
      "metadata": {
        "_uuid": "70089e821d45ea593c562a833ee6989202be0583",
        "id": "xObob_KC9lAe"
      },
      "source": [
        "In the dataset we have both categorical and numerical columns. Let's look at the values of categorical columns first."
      ]
    },
    {
      "cell_type": "code",
      "metadata": {
        "_uuid": "1938266853e56fbb269f1d8a45c12786e3be18d9",
        "id": "4sW0Nhkp9lAf",
        "colab": {
          "base_uri": "https://localhost:8080/",
          "height": 856
        },
        "outputId": "64f45119-f194-4c71-d336-91db5998e121"
      },
      "source": [
        "cat_columns = ['job', 'marital', 'education', 'default', 'housing', 'loan', 'contact', 'month','poutcome']\n",
        "\n",
        "fig, axs = plt.subplots(3, 3, sharex=False, sharey=False, figsize=(20, 15))\n",
        "\n",
        "counter = 0\n",
        "for cat_column in cat_columns:\n",
        "    value_counts = df[cat_column].value_counts()\n",
        "    \n",
        "    trace_x = counter // 3\n",
        "    trace_y = counter % 3\n",
        "    x_pos = np.arange(0, len(value_counts))\n",
        "    \n",
        "    axs[trace_x, trace_y].bar(x_pos, value_counts.values, tick_label = value_counts.index)\n",
        "    \n",
        "    axs[trace_x, trace_y].set_title(cat_column)\n",
        "    \n",
        "    for tick in axs[trace_x, trace_y].get_xticklabels():\n",
        "        tick.set_rotation(90)\n",
        "    \n",
        "    counter += 1\n",
        "\n",
        "plt.show()"
      ],
      "execution_count": 8,
      "outputs": [
        {
          "output_type": "display_data",
          "data": {
            "image/png": "[encoded data removed]",
            "text/plain": [
              "<Figure size 1440x1080 with 9 Axes>"
            ]
          },
          "metadata": {
            "needs_background": "light"
          }
        }
      ]
    },
    {
      "cell_type": "markdown",
      "metadata": {
        "_uuid": "52e08f6727a73fc7ad9c4959ea16de52df98f6b4",
        "id": "xl0UcSCT9lAf"
      },
      "source": [
        "### Numerical columns exploration"
      ]
    },
    {
      "cell_type": "markdown",
      "metadata": {
        "_uuid": "074b44ddc19e530e9a09e0bc4a252c18d906f539",
        "id": "XwD7se8A9lAf"
      },
      "source": [
        "Now let's look at the numerical columns' values. The most convenient way to look at the numerical values is plotting histograms."
      ]
    },
    {
      "cell_type": "code",
      "metadata": {
        "_uuid": "4996808611a63346302571b98d824d05d863490e",
        "id": "CJ2sLR-X9lAg",
        "colab": {
          "base_uri": "https://localhost:8080/",
          "height": 819
        },
        "outputId": "c601ca4c-ee11-489e-d370-25749286d1bc"
      },
      "source": [
        "num_columns = ['balance', 'day','duration', 'campaign', 'pdays', 'previous']\n",
        "\n",
        "fig, axs = plt.subplots(2, 3, sharex=False, sharey=False, figsize=(20, 15))\n",
        "\n",
        "counter = 0\n",
        "for num_column in num_columns:\n",
        "    \n",
        "    trace_x = counter // 3\n",
        "    trace_y = counter % 3\n",
        "    \n",
        "    axs[trace_x, trace_y].hist(df[num_column])\n",
        "    \n",
        "    axs[trace_x, trace_y].set_title(num_column)\n",
        "    \n",
        "    counter += 1\n",
        "\n",
        "plt.show()"
      ],
      "execution_count": 9,
      "outputs": [
        {
          "output_type": "display_data",
          "data": {
            "image/png": "[encoded data removed]",
            "text/plain": [
              "<Figure size 1440x1080 with 6 Axes>"
            ]
          },
          "metadata": {
            "needs_background": "light"
          }
        }
      ]
    },
    {
      "cell_type": "markdown",
      "metadata": {
        "_uuid": "8b9d668fc8f287bc0fd8745326f743cc97bf18bd",
        "id": "XaILt8Du9lAg"
      },
      "source": [
        "We can see that numerical columns have outliers (especially 'pdays', 'campaign' and 'previous' columns). Possibly there are incorrect values (noisy data), so we should look closer at the data and decide how do we manage the noise.\n",
        "<br> Let's look closer at the values of 'campaign', 'pdays' and 'previous' columns:"
      ]
    },
    {
      "cell_type": "code",
      "metadata": {
        "_uuid": "bf3a266798fa38e8542790767f3b3de7ace40aa1",
        "id": "2EeynjCI9lAg",
        "colab": {
          "base_uri": "https://localhost:8080/",
          "height": 300
        },
        "outputId": "f8091360-0aa1-4584-d231-e5d30b7f5264"
      },
      "source": [
        "df[['pdays', 'campaign', 'previous']].describe()"
      ],
      "execution_count": 10,
      "outputs": [
        {
          "output_type": "execute_result",
          "data": {
            "text/html": [
              "<div>\n",
              "<style scoped>\n",
              "    .dataframe tbody tr th:only-of-type {\n",
              "        vertical-align: middle;\n",
              "    }\n",
              "\n",
              "    .dataframe tbody tr th {\n",
              "        vertical-align: top;\n",
              "    }\n",
              "\n",
              "    .dataframe thead th {\n",
              "        text-align: right;\n",
              "    }\n",
              "</style>\n",
              "<table border=\"1\" class=\"dataframe\">\n",
              "  <thead>\n",
              "    <tr style=\"text-align: right;\">\n",
              "      <th></th>\n",
              "      <th>pdays</th>\n",
              "      <th>campaign</th>\n",
              "      <th>previous</th>\n",
              "    </tr>\n",
              "  </thead>\n",
              "  <tbody>\n",
              "    <tr>\n",
              "      <th>count</th>\n",
              "      <td>4521.000000</td>\n",
              "      <td>4521.000000</td>\n",
              "      <td>4521.000000</td>\n",
              "    </tr>\n",
              "    <tr>\n",
              "      <th>mean</th>\n",
              "      <td>39.766645</td>\n",
              "      <td>2.793630</td>\n",
              "      <td>0.542579</td>\n",
              "    </tr>\n",
              "    <tr>\n",
              "      <th>std</th>\n",
              "      <td>100.121124</td>\n",
              "      <td>3.109807</td>\n",
              "      <td>1.693562</td>\n",
              "    </tr>\n",
              "    <tr>\n",
              "      <th>min</th>\n",
              "      <td>-1.000000</td>\n",
              "      <td>1.000000</td>\n",
              "      <td>0.000000</td>\n",
              "    </tr>\n",
              "    <tr>\n",
              "      <th>25%</th>\n",
              "      <td>-1.000000</td>\n",
              "      <td>1.000000</td>\n",
              "      <td>0.000000</td>\n",
              "    </tr>\n",
              "    <tr>\n",
              "      <th>50%</th>\n",
              "      <td>-1.000000</td>\n",
              "      <td>2.000000</td>\n",
              "      <td>0.000000</td>\n",
              "    </tr>\n",
              "    <tr>\n",
              "      <th>75%</th>\n",
              "      <td>-1.000000</td>\n",
              "      <td>3.000000</td>\n",
              "      <td>0.000000</td>\n",
              "    </tr>\n",
              "    <tr>\n",
              "      <th>max</th>\n",
              "      <td>871.000000</td>\n",
              "      <td>50.000000</td>\n",
              "      <td>25.000000</td>\n",
              "    </tr>\n",
              "  </tbody>\n",
              "</table>\n",
              "</div>"
            ],
            "text/plain": [
              "             pdays     campaign     previous\n",
              "count  4521.000000  4521.000000  4521.000000\n",
              "mean     39.766645     2.793630     0.542579\n",
              "std     100.121124     3.109807     1.693562\n",
              "min      -1.000000     1.000000     0.000000\n",
              "25%      -1.000000     1.000000     0.000000\n",
              "50%      -1.000000     2.000000     0.000000\n",
              "75%      -1.000000     3.000000     0.000000\n",
              "max     871.000000    50.000000    25.000000"
            ]
          },
          "metadata": {},
          "execution_count": 10
        }
      ]
    },
    {
      "cell_type": "markdown",
      "metadata": {
        "_uuid": "b18209f25f8f8beba8b0f8e5c5db759318a4b102",
        "id": "dI3x-3SQ9lAh"
      },
      "source": [
        "Percentage of 'pdays' values above 400:"
      ]
    },
    {
      "cell_type": "code",
      "metadata": {
        "_uuid": "8db77b60bff2efa4960db6ff510e01642456cc4c",
        "id": "Ti0qAadx9lAh",
        "colab": {
          "base_uri": "https://localhost:8080/"
        },
        "outputId": "6af2fe3a-0ad5-46ed-d2f0-777b9ce539a2"
      },
      "source": [
        "len (df[df['pdays'] > 400] ) / len(df) * 100"
      ],
      "execution_count": 11,
      "outputs": [
        {
          "output_type": "execute_result",
          "data": {
            "text/plain": [
              "0.57509400575094"
            ]
          },
          "metadata": {},
          "execution_count": 11
        }
      ]
    },
    {
      "cell_type": "markdown",
      "metadata": {
        "_uuid": "a03f4e173db68ae35442d34c10905313d9e1c6a1",
        "id": "qj_7opLM9lAh"
      },
      "source": [
        "'pdays' holds the number of days that passed by after the client was last contacted from a previous campaign\n",
        "Looking closer into 'pdays' data we can see that:\n",
        "* only 1.2% of values above 400. They are possibly outliers, so we should consider imputing something (possibly mean value) instead of these values.\n",
        "* -1 possibly means that the client wasn't contacted before or stands for missing data.\n",
        "\n",
        "Since we are not sure exactly what -1 means I suggest to drop this column, because -1 makes more than 50% of the values of the column."
      ]
    },
    {
      "cell_type": "markdown",
      "metadata": {
        "_uuid": "3efa8cdcbe424cd936e1e764a0333ba4e2b08744",
        "id": "dkE8JHZt9lAi"
      },
      "source": [
        "Percentage of 'campaign' values above 20:"
      ]
    },
    {
      "cell_type": "code",
      "metadata": {
        "_uuid": "f3aabd2eed6cd14b5bb4d9de47519faf28f6557a",
        "id": "K-VbLbcz9lAi",
        "colab": {
          "base_uri": "https://localhost:8080/"
        },
        "outputId": "07908409-4c4b-4245-d424-3f9cf12b589d"
      },
      "source": [
        "len (df[df['campaign'] > 34] ) / len(df) * 100"
      ],
      "execution_count": 12,
      "outputs": [
        {
          "output_type": "execute_result",
          "data": {
            "text/plain": [
              "0.04423800044238001"
            ]
          },
          "metadata": {},
          "execution_count": 12
        }
      ]
    },
    {
      "cell_type": "markdown",
      "metadata": {
        "_uuid": "0a5ac6bfde358fe53dcbaf13d61168824c6ce5a7",
        "id": "3RKoO3x29lAi"
      },
      "source": [
        "'campaign' holds the number of contacts performed during this campaign and for this client (numeric, includes last contact)\n",
        "Numbers for 'campaign' above 34 are clearly noise, so I suggest to impute them with average campaign values while data cleaning."
      ]
    },
    {
      "cell_type": "markdown",
      "metadata": {
        "_uuid": "d89667f07a89c9a3d4e02fcf60d8a273353c5a3e",
        "id": "lFRDWz2c9lAj"
      },
      "source": [
        "Percentage of 'previous' values above 20:"
      ]
    },
    {
      "cell_type": "code",
      "metadata": {
        "_uuid": "5d39f875c94eef6961b49826cec929d21c595f50",
        "id": "ns3yjwmD9lAj",
        "colab": {
          "base_uri": "https://localhost:8080/"
        },
        "outputId": "4fa0252f-ba28-4c05-ca5d-3332800523f3"
      },
      "source": [
        "len (df[df['previous'] > 34] ) / len(df) * 100"
      ],
      "execution_count": 13,
      "outputs": [
        {
          "output_type": "execute_result",
          "data": {
            "text/plain": [
              "0.0"
            ]
          },
          "metadata": {},
          "execution_count": 13
        }
      ]
    },
    {
      "cell_type": "markdown",
      "metadata": {
        "_uuid": "3bf6e16161dbb736ca2da4d3033d2201cff99b0e",
        "id": "ZaE5NZoR9lAj"
      },
      "source": [
        "'previous' holds the number of contacts performed before this campaign and for this client (numeric)\n",
        "Numbers for 'previous' above 34 are also really strange, so I suggest to impute them with average campaign values while data cleaning."
      ]
    },
    {
      "cell_type": "markdown",
      "metadata": {
        "_uuid": "23413f846914b7bc38a785f1ac4c6c5542d81712",
        "id": "UaWYjDHc9lAj"
      },
      "source": [
        "### Analysis of the response column"
      ]
    },
    {
      "cell_type": "markdown",
      "metadata": {
        "_uuid": "aed4354ab2aa412a629185d495efd4d6fefb18ca",
        "id": "Y_HrGGei9lAj"
      },
      "source": [
        "It is very important to look at the response column, which holds the information, which we are going to predict. In our case we should look at 'deposit' column and compare its values to other columns. \n",
        "<br> First of all we should look at the number of 'yes' and 'no' values in the response column 'deposit'."
      ]
    },
    {
      "cell_type": "code",
      "metadata": {
        "_uuid": "63142d576f819e0250ed39d06a9e2c4c8eb67fa0",
        "id": "S77D9V_R9lAk",
        "colab": {
          "base_uri": "https://localhost:8080/",
          "height": 307
        },
        "outputId": "7e96013b-b661-41f5-f628-342ba3763c69"
      },
      "source": [
        "value_counts = df['deposit'].value_counts()\n",
        "\n",
        "value_counts.plot.bar(title = 'Deposit value counts')"
      ],
      "execution_count": 14,
      "outputs": [
        {
          "output_type": "execute_result",
          "data": {
            "text/plain": [
              "<matplotlib.axes._subplots.AxesSubplot at 0x7fdb9c521650>"
            ]
          },
          "metadata": {},
          "execution_count": 14
        },
        {
          "output_type": "display_data",
          "data": {
            "image/png": "[encoded data removed]",
            "text/plain": [
              "<Figure size 432x288 with 1 Axes>"
            ]
          },
          "metadata": {
            "needs_background": "light"
          }
        }
      ]
    },
    {
      "cell_type": "markdown",
      "metadata": {
        "_uuid": "7f84c8aaa1e3f46292f6c148840d7a0f2fb5fd8d",
        "id": "lImFfRg19lAk"
      },
      "source": [
        "On the diagram we see that counts for 'yes' and 'no' values for 'deposit' are close, so we can use accuracy as a metric for a model, which predicts the campaign outcome."
      ]
    },
    {
      "cell_type": "markdown",
      "metadata": {
        "_uuid": "bf10cca9bb8132ba04f9443a8e89f436284d33d0",
        "id": "IVmEMGgS9lAk"
      },
      "source": [
        "Let's see how 'deposit' column value varies depending on other categorical columns' values:"
      ]
    },
    {
      "cell_type": "code",
      "metadata": {
        "_uuid": "fd37526354b859d2ff3a82e733866950842b9a39",
        "id": "zZ8YTbB09lAk",
        "colab": {
          "base_uri": "https://localhost:8080/",
          "height": 359
        },
        "outputId": "26a75732-e1f6-4560-f1ba-f629587c27f3"
      },
      "source": [
        "#job and deposit\n",
        "j_df = pd.DataFrame()\n",
        "\n",
        "j_df['yes'] = df[df['deposit'] == 'yes']['job'].value_counts()\n",
        "j_df['no'] = df[df['deposit'] == 'no']['job'].value_counts()\n",
        "\n",
        "j_df.plot.bar(title = 'Job and deposit')"
      ],
      "execution_count": 15,
      "outputs": [
        {
          "output_type": "execute_result",
          "data": {
            "text/plain": [
              "<matplotlib.axes._subplots.AxesSubplot at 0x7fdb9c430750>"
            ]
          },
          "metadata": {},
          "execution_count": 15
        },
        {
          "output_type": "display_data",
          "data": {
            "image/png": "[encoded data removed]",
            "text/plain": [
              "<Figure size 432x288 with 1 Axes>"
            ]
          },
          "metadata": {
            "needs_background": "light"
          }
        }
      ]
    },
    {
      "cell_type": "code",
      "metadata": {
        "_uuid": "fcbfe84749f96ab892485f74df1d3a1420c1fea9",
        "id": "c2Lb7jn89lAk",
        "colab": {
          "base_uri": "https://localhost:8080/",
          "height": 331
        },
        "outputId": "d42f950a-a5c2-43bf-acac-1de64a97bcf9"
      },
      "source": [
        "#marital status and deposit\n",
        "j_df = pd.DataFrame()\n",
        "\n",
        "j_df['yes'] = df[df['deposit'] == 'yes']['marital'].value_counts()\n",
        "j_df['no'] = df[df['deposit'] == 'no']['marital'].value_counts()\n",
        "\n",
        "j_df.plot.bar(title = 'Marital status and deposit')"
      ],
      "execution_count": 16,
      "outputs": [
        {
          "output_type": "execute_result",
          "data": {
            "text/plain": [
              "<matplotlib.axes._subplots.AxesSubplot at 0x7fdb9c384590>"
            ]
          },
          "metadata": {},
          "execution_count": 16
        },
        {
          "output_type": "display_data",
          "data": {
            "image/png": "[encoded data removed]",
            "text/plain": [
              "<Figure size 432x288 with 1 Axes>"
            ]
          },
          "metadata": {
            "needs_background": "light"
          }
        }
      ]
    },
    {
      "cell_type": "code",
      "metadata": {
        "_uuid": "41865164c1c1cebe2eba5dcdfd774d028ef80606",
        "id": "AwCNz6ah9lAl",
        "colab": {
          "base_uri": "https://localhost:8080/",
          "height": 341
        },
        "outputId": "f2cfbc6d-ce18-433c-c0df-8556cf641683"
      },
      "source": [
        "#education and deposit\n",
        "j_df = pd.DataFrame()\n",
        "\n",
        "j_df['yes'] = df[df['deposit'] == 'yes']['education'].value_counts()\n",
        "j_df['no'] = df[df['deposit'] == 'no']['education'].value_counts()\n",
        "\n",
        "j_df.plot.bar(title = 'Education and deposit')"
      ],
      "execution_count": 17,
      "outputs": [
        {
          "output_type": "execute_result",
          "data": {
            "text/plain": [
              "<matplotlib.axes._subplots.AxesSubplot at 0x7fdb9c2ffe10>"
            ]
          },
          "metadata": {},
          "execution_count": 17
        },
        {
          "output_type": "display_data",
          "data": {
            "image/png": "[encoded data removed]",
            "text/plain": [
              "<Figure size 432x288 with 1 Axes>"
            ]
          },
          "metadata": {
            "needs_background": "light"
          }
        }
      ]
    },
    {
      "cell_type": "code",
      "metadata": {
        "_uuid": "1418d58637ea1ea831d2b17fd2de74679a92d0cc",
        "id": "uTi-HzL-9lAl",
        "colab": {
          "base_uri": "https://localhost:8080/",
          "height": 339
        },
        "outputId": "c43e2b3f-6c3e-420c-a5b1-be9f704c5e76"
      },
      "source": [
        "#type of contact and deposit\n",
        "j_df = pd.DataFrame()\n",
        "\n",
        "j_df['yes'] = df[df['deposit'] == 'yes']['contact'].value_counts()\n",
        "j_df['no'] = df[df['deposit'] == 'no']['contact'].value_counts()\n",
        "\n",
        "j_df.plot.bar(title = 'Type of contact and deposit')"
      ],
      "execution_count": 18,
      "outputs": [
        {
          "output_type": "execute_result",
          "data": {
            "text/plain": [
              "<matplotlib.axes._subplots.AxesSubplot at 0x7fdb9c28f550>"
            ]
          },
          "metadata": {},
          "execution_count": 18
        },
        {
          "output_type": "display_data",
          "data": {
            "image/png": "[encoded data removed]",
            "text/plain": [
              "<Figure size 432x288 with 1 Axes>"
            ]
          },
          "metadata": {
            "needs_background": "light"
          }
        }
      ]
    },
    {
      "cell_type": "markdown",
      "metadata": {
        "_uuid": "ce7acc045351b74bfb2bc283a30ae5d13bce4556",
        "id": "mSkAM6X59lAl"
      },
      "source": [
        "Regarding the diagrams we can tell that according to our dataset:\n",
        "1. Customers with 'blue-collar' and 'services' jobs are less likely to subscribe for term deposit.\n",
        "2. Married customers are less likely to subscribe for term deposit.\n",
        "3. Customers with 'cellular' type of contact are less likely to subscribe for term deposit."
      ]
    },
    {
      "cell_type": "markdown",
      "metadata": {
        "_uuid": "351b2a7d2ff6af767b61c0cb478fac05010b23ce",
        "id": "3Py4YM9T9lAl"
      },
      "source": [
        "Now let's look how numerical columns affect term deposit subscription."
      ]
    },
    {
      "cell_type": "code",
      "metadata": {
        "_uuid": "85f440e31a4735c92235c12b07dae34a61719076",
        "id": "h7npWVZN9lAm",
        "colab": {
          "base_uri": "https://localhost:8080/",
          "height": 300
        },
        "outputId": "8d3c429d-07d1-47c3-b623-39cc6cf08b14"
      },
      "source": [
        "#balance and deposit\n",
        "\n",
        "b_df = pd.DataFrame()\n",
        "b_df['balance_yes'] = (df[df['deposit'] == 'yes'][['deposit','balance']].describe())['balance']\n",
        "b_df['balance_no'] = (df[df['deposit'] == 'no'][['deposit','balance']].describe())['balance']\n",
        "\n",
        "b_df"
      ],
      "execution_count": 19,
      "outputs": [
        {
          "output_type": "execute_result",
          "data": {
            "text/html": [
              "<div>\n",
              "<style scoped>\n",
              "    .dataframe tbody tr th:only-of-type {\n",
              "        vertical-align: middle;\n",
              "    }\n",
              "\n",
              "    .dataframe tbody tr th {\n",
              "        vertical-align: top;\n",
              "    }\n",
              "\n",
              "    .dataframe thead th {\n",
              "        text-align: right;\n",
              "    }\n",
              "</style>\n",
              "<table border=\"1\" class=\"dataframe\">\n",
              "  <thead>\n",
              "    <tr style=\"text-align: right;\">\n",
              "      <th></th>\n",
              "      <th>balance_yes</th>\n",
              "      <th>balance_no</th>\n",
              "    </tr>\n",
              "  </thead>\n",
              "  <tbody>\n",
              "    <tr>\n",
              "      <th>count</th>\n",
              "      <td>521.000000</td>\n",
              "      <td>4000.000000</td>\n",
              "    </tr>\n",
              "    <tr>\n",
              "      <th>mean</th>\n",
              "      <td>1571.955854</td>\n",
              "      <td>1403.211750</td>\n",
              "    </tr>\n",
              "    <tr>\n",
              "      <th>std</th>\n",
              "      <td>2444.398956</td>\n",
              "      <td>3075.349313</td>\n",
              "    </tr>\n",
              "    <tr>\n",
              "      <th>min</th>\n",
              "      <td>-1206.000000</td>\n",
              "      <td>-3313.000000</td>\n",
              "    </tr>\n",
              "    <tr>\n",
              "      <th>25%</th>\n",
              "      <td>171.000000</td>\n",
              "      <td>61.000000</td>\n",
              "    </tr>\n",
              "    <tr>\n",
              "      <th>50%</th>\n",
              "      <td>710.000000</td>\n",
              "      <td>419.500000</td>\n",
              "    </tr>\n",
              "    <tr>\n",
              "      <th>75%</th>\n",
              "      <td>2160.000000</td>\n",
              "      <td>1407.000000</td>\n",
              "    </tr>\n",
              "    <tr>\n",
              "      <th>max</th>\n",
              "      <td>26965.000000</td>\n",
              "      <td>71188.000000</td>\n",
              "    </tr>\n",
              "  </tbody>\n",
              "</table>\n",
              "</div>"
            ],
            "text/plain": [
              "        balance_yes    balance_no\n",
              "count    521.000000   4000.000000\n",
              "mean    1571.955854   1403.211750\n",
              "std     2444.398956   3075.349313\n",
              "min    -1206.000000  -3313.000000\n",
              "25%      171.000000     61.000000\n",
              "50%      710.000000    419.500000\n",
              "75%     2160.000000   1407.000000\n",
              "max    26965.000000  71188.000000"
            ]
          },
          "metadata": {},
          "execution_count": 19
        }
      ]
    },
    {
      "cell_type": "code",
      "metadata": {
        "_uuid": "4fdfb640e72e4b6f6cbff055b2d3d35e2053fa3b",
        "id": "FR3Z7sEe9lAm",
        "colab": {
          "base_uri": "https://localhost:8080/",
          "height": 317
        },
        "outputId": "1fec508f-9093-4083-eee5-dcf4cbd0a6fc"
      },
      "source": [
        "b_df.drop(['count', '25%', '50%', '75%']).plot.bar(title = 'Balance and deposit statistics')"
      ],
      "execution_count": 20,
      "outputs": [
        {
          "output_type": "execute_result",
          "data": {
            "text/plain": [
              "<matplotlib.axes._subplots.AxesSubplot at 0x7fdb9c213890>"
            ]
          },
          "metadata": {},
          "execution_count": 20
        },
        {
          "output_type": "display_data",
          "data": {
            "image/png": "[encoded data removed]",
            "text/plain": [
              "<Figure size 432x288 with 1 Axes>"
            ]
          },
          "metadata": {
            "needs_background": "light"
          }
        }
      ]
    },
    {
      "cell_type": "code",
      "metadata": {
        "_uuid": "054bf8c7aca1045516d9085f3c3764af142f4741",
        "id": "N_42XDR29lAm",
        "colab": {
          "base_uri": "https://localhost:8080/",
          "height": 300
        },
        "outputId": "63060d4d-8d60-4a4a-c026-5d14b461ea48"
      },
      "source": [
        "#age and deposit\n",
        "\n",
        "a_df = pd.DataFrame()\n",
        "a_df['age_yes'] = (df[df['deposit'] == 'yes'][['deposit','age']].describe())['age']\n",
        "a_df['age_no'] = (df[df['deposit'] == 'no'][['deposit','age']].describe())['age']\n",
        "\n",
        "a_df"
      ],
      "execution_count": 21,
      "outputs": [
        {
          "output_type": "execute_result",
          "data": {
            "text/html": [
              "<div>\n",
              "<style scoped>\n",
              "    .dataframe tbody tr th:only-of-type {\n",
              "        vertical-align: middle;\n",
              "    }\n",
              "\n",
              "    .dataframe tbody tr th {\n",
              "        vertical-align: top;\n",
              "    }\n",
              "\n",
              "    .dataframe thead th {\n",
              "        text-align: right;\n",
              "    }\n",
              "</style>\n",
              "<table border=\"1\" class=\"dataframe\">\n",
              "  <thead>\n",
              "    <tr style=\"text-align: right;\">\n",
              "      <th></th>\n",
              "      <th>age_yes</th>\n",
              "      <th>age_no</th>\n",
              "    </tr>\n",
              "  </thead>\n",
              "  <tbody>\n",
              "    <tr>\n",
              "      <th>count</th>\n",
              "      <td>521.000000</td>\n",
              "      <td>4000.000000</td>\n",
              "    </tr>\n",
              "    <tr>\n",
              "      <th>mean</th>\n",
              "      <td>42.491363</td>\n",
              "      <td>40.998000</td>\n",
              "    </tr>\n",
              "    <tr>\n",
              "      <th>std</th>\n",
              "      <td>13.115772</td>\n",
              "      <td>10.188398</td>\n",
              "    </tr>\n",
              "    <tr>\n",
              "      <th>min</th>\n",
              "      <td>19.000000</td>\n",
              "      <td>19.000000</td>\n",
              "    </tr>\n",
              "    <tr>\n",
              "      <th>25%</th>\n",
              "      <td>32.000000</td>\n",
              "      <td>33.000000</td>\n",
              "    </tr>\n",
              "    <tr>\n",
              "      <th>50%</th>\n",
              "      <td>40.000000</td>\n",
              "      <td>39.000000</td>\n",
              "    </tr>\n",
              "    <tr>\n",
              "      <th>75%</th>\n",
              "      <td>50.000000</td>\n",
              "      <td>48.000000</td>\n",
              "    </tr>\n",
              "    <tr>\n",
              "      <th>max</th>\n",
              "      <td>87.000000</td>\n",
              "      <td>86.000000</td>\n",
              "    </tr>\n",
              "  </tbody>\n",
              "</table>\n",
              "</div>"
            ],
            "text/plain": [
              "          age_yes       age_no\n",
              "count  521.000000  4000.000000\n",
              "mean    42.491363    40.998000\n",
              "std     13.115772    10.188398\n",
              "min     19.000000    19.000000\n",
              "25%     32.000000    33.000000\n",
              "50%     40.000000    39.000000\n",
              "75%     50.000000    48.000000\n",
              "max     87.000000    86.000000"
            ]
          },
          "metadata": {},
          "execution_count": 21
        }
      ]
    },
    {
      "cell_type": "code",
      "metadata": {
        "_uuid": "5debbbf91c62df70f679046abb1a6ad2e362a21a",
        "id": "mZ_UX--p9lAm",
        "colab": {
          "base_uri": "https://localhost:8080/",
          "height": 317
        },
        "outputId": "711ea0ea-cedb-4476-fc89-3ec94d01f853"
      },
      "source": [
        "a_df.drop(['count', '25%', '50%', '75%']).plot.bar(title = 'Age and deposit statistics')"
      ],
      "execution_count": 22,
      "outputs": [
        {
          "output_type": "execute_result",
          "data": {
            "text/plain": [
              "<matplotlib.axes._subplots.AxesSubplot at 0x7fdb9c19fc90>"
            ]
          },
          "metadata": {},
          "execution_count": 22
        },
        {
          "output_type": "display_data",
          "data": {
            "image/png": "[encoded data removed]",
            "text/plain": [
              "<Figure size 432x288 with 1 Axes>"
            ]
          },
          "metadata": {
            "needs_background": "light"
          }
        }
      ]
    },
    {
      "cell_type": "code",
      "metadata": {
        "_uuid": "df7570d6ef520da585b0294cb4056f4f53aa8675",
        "id": "X3E-tKBh9lAm",
        "colab": {
          "base_uri": "https://localhost:8080/",
          "height": 300
        },
        "outputId": "c9b8984a-e979-48ed-b596-28077bc7fe2a"
      },
      "source": [
        "#number of contacts performed during this campaign ('campaign') and deposit\n",
        "c_df = pd.DataFrame()\n",
        "c_df['campaign_yes'] = (df[df['deposit'] == 'yes'][['deposit','campaign']].describe())['campaign']\n",
        "c_df['campaign_no'] = (df[df['deposit'] == 'no'][['deposit','campaign']].describe())['campaign']\n",
        "\n",
        "c_df"
      ],
      "execution_count": 23,
      "outputs": [
        {
          "output_type": "execute_result",
          "data": {
            "text/html": [
              "<div>\n",
              "<style scoped>\n",
              "    .dataframe tbody tr th:only-of-type {\n",
              "        vertical-align: middle;\n",
              "    }\n",
              "\n",
              "    .dataframe tbody tr th {\n",
              "        vertical-align: top;\n",
              "    }\n",
              "\n",
              "    .dataframe thead th {\n",
              "        text-align: right;\n",
              "    }\n",
              "</style>\n",
              "<table border=\"1\" class=\"dataframe\">\n",
              "  <thead>\n",
              "    <tr style=\"text-align: right;\">\n",
              "      <th></th>\n",
              "      <th>campaign_yes</th>\n",
              "      <th>campaign_no</th>\n",
              "    </tr>\n",
              "  </thead>\n",
              "  <tbody>\n",
              "    <tr>\n",
              "      <th>count</th>\n",
              "      <td>521.000000</td>\n",
              "      <td>4000.000000</td>\n",
              "    </tr>\n",
              "    <tr>\n",
              "      <th>mean</th>\n",
              "      <td>2.266795</td>\n",
              "      <td>2.862250</td>\n",
              "    </tr>\n",
              "    <tr>\n",
              "      <th>std</th>\n",
              "      <td>2.092071</td>\n",
              "      <td>3.212609</td>\n",
              "    </tr>\n",
              "    <tr>\n",
              "      <th>min</th>\n",
              "      <td>1.000000</td>\n",
              "      <td>1.000000</td>\n",
              "    </tr>\n",
              "    <tr>\n",
              "      <th>25%</th>\n",
              "      <td>1.000000</td>\n",
              "      <td>1.000000</td>\n",
              "    </tr>\n",
              "    <tr>\n",
              "      <th>50%</th>\n",
              "      <td>2.000000</td>\n",
              "      <td>2.000000</td>\n",
              "    </tr>\n",
              "    <tr>\n",
              "      <th>75%</th>\n",
              "      <td>3.000000</td>\n",
              "      <td>3.000000</td>\n",
              "    </tr>\n",
              "    <tr>\n",
              "      <th>max</th>\n",
              "      <td>24.000000</td>\n",
              "      <td>50.000000</td>\n",
              "    </tr>\n",
              "  </tbody>\n",
              "</table>\n",
              "</div>"
            ],
            "text/plain": [
              "       campaign_yes  campaign_no\n",
              "count    521.000000  4000.000000\n",
              "mean       2.266795     2.862250\n",
              "std        2.092071     3.212609\n",
              "min        1.000000     1.000000\n",
              "25%        1.000000     1.000000\n",
              "50%        2.000000     2.000000\n",
              "75%        3.000000     3.000000\n",
              "max       24.000000    50.000000"
            ]
          },
          "metadata": {},
          "execution_count": 23
        }
      ]
    },
    {
      "cell_type": "code",
      "metadata": {
        "_uuid": "b78ced3e2abae5fa673a9d5c2f94f234cbe3e8af",
        "id": "LAW9lSwh9lAn",
        "colab": {
          "base_uri": "https://localhost:8080/",
          "height": 317
        },
        "outputId": "1fa16484-badd-4c8b-fe1e-8f925c990a9a"
      },
      "source": [
        "c_df.drop(['count', '25%', '50%', '75%']).plot.bar(title = 'Number of contacts performed during this campaign and deposit statistics')"
      ],
      "execution_count": 24,
      "outputs": [
        {
          "output_type": "execute_result",
          "data": {
            "text/plain": [
              "<matplotlib.axes._subplots.AxesSubplot at 0x7fdb9c128b90>"
            ]
          },
          "metadata": {},
          "execution_count": 24
        },
        {
          "output_type": "display_data",
          "data": {
            "image/png": "[encoded data removed]",
            "text/plain": [
              "<Figure size 432x288 with 1 Axes>"
            ]
          },
          "metadata": {
            "needs_background": "light"
          }
        }
      ]
    },
    {
      "cell_type": "code",
      "metadata": {
        "_uuid": "8319de98e398300a9464664dc204e060b03fbb71",
        "id": "vjK3yzjG9lAn",
        "colab": {
          "base_uri": "https://localhost:8080/",
          "height": 300
        },
        "outputId": "a9acc6fb-aba5-4ac9-e8cd-9afd7d1c96cc"
      },
      "source": [
        "#number of contacts performed during previous campaign ('previous') and deposit\n",
        "p_df = pd.DataFrame()\n",
        "p_df['previous_yes'] = (df[df['deposit'] == 'yes'][['deposit','previous']].describe())['previous']\n",
        "p_df['previous_no'] = (df[df['deposit'] == 'no'][['deposit','previous']].describe())['previous']\n",
        "\n",
        "p_df"
      ],
      "execution_count": 25,
      "outputs": [
        {
          "output_type": "execute_result",
          "data": {
            "text/html": [
              "<div>\n",
              "<style scoped>\n",
              "    .dataframe tbody tr th:only-of-type {\n",
              "        vertical-align: middle;\n",
              "    }\n",
              "\n",
              "    .dataframe tbody tr th {\n",
              "        vertical-align: top;\n",
              "    }\n",
              "\n",
              "    .dataframe thead th {\n",
              "        text-align: right;\n",
              "    }\n",
              "</style>\n",
              "<table border=\"1\" class=\"dataframe\">\n",
              "  <thead>\n",
              "    <tr style=\"text-align: right;\">\n",
              "      <th></th>\n",
              "      <th>previous_yes</th>\n",
              "      <th>previous_no</th>\n",
              "    </tr>\n",
              "  </thead>\n",
              "  <tbody>\n",
              "    <tr>\n",
              "      <th>count</th>\n",
              "      <td>521.000000</td>\n",
              "      <td>4000.000000</td>\n",
              "    </tr>\n",
              "    <tr>\n",
              "      <th>mean</th>\n",
              "      <td>1.090211</td>\n",
              "      <td>0.471250</td>\n",
              "    </tr>\n",
              "    <tr>\n",
              "      <th>std</th>\n",
              "      <td>2.055368</td>\n",
              "      <td>1.627371</td>\n",
              "    </tr>\n",
              "    <tr>\n",
              "      <th>min</th>\n",
              "      <td>0.000000</td>\n",
              "      <td>0.000000</td>\n",
              "    </tr>\n",
              "    <tr>\n",
              "      <th>25%</th>\n",
              "      <td>0.000000</td>\n",
              "      <td>0.000000</td>\n",
              "    </tr>\n",
              "    <tr>\n",
              "      <th>50%</th>\n",
              "      <td>0.000000</td>\n",
              "      <td>0.000000</td>\n",
              "    </tr>\n",
              "    <tr>\n",
              "      <th>75%</th>\n",
              "      <td>2.000000</td>\n",
              "      <td>0.000000</td>\n",
              "    </tr>\n",
              "    <tr>\n",
              "      <th>max</th>\n",
              "      <td>14.000000</td>\n",
              "      <td>25.000000</td>\n",
              "    </tr>\n",
              "  </tbody>\n",
              "</table>\n",
              "</div>"
            ],
            "text/plain": [
              "       previous_yes  previous_no\n",
              "count    521.000000  4000.000000\n",
              "mean       1.090211     0.471250\n",
              "std        2.055368     1.627371\n",
              "min        0.000000     0.000000\n",
              "25%        0.000000     0.000000\n",
              "50%        0.000000     0.000000\n",
              "75%        2.000000     0.000000\n",
              "max       14.000000    25.000000"
            ]
          },
          "metadata": {},
          "execution_count": 25
        }
      ]
    },
    {
      "cell_type": "code",
      "metadata": {
        "_uuid": "b3575d7c7ab57d09be0b299648d2c6458858828d",
        "id": "PfsPCNj_9lAn",
        "colab": {
          "base_uri": "https://localhost:8080/",
          "height": 317
        },
        "outputId": "83aeb794-08ea-4ad7-ff0d-1de4aaae5650"
      },
      "source": [
        "p_df.drop(['count', '25%', '50%', '75%']).plot.bar(title = 'Number of contacts performed during previous campaign and deposit statistics')"
      ],
      "execution_count": 26,
      "outputs": [
        {
          "output_type": "execute_result",
          "data": {
            "text/plain": [
              "<matplotlib.axes._subplots.AxesSubplot at 0x7fdb9c2acf90>"
            ]
          },
          "metadata": {},
          "execution_count": 26
        },
        {
          "output_type": "display_data",
          "data": {
            "image/png": "[encoded data removed]",
            "text/plain": [
              "<Figure size 432x288 with 1 Axes>"
            ]
          },
          "metadata": {
            "needs_background": "light"
          }
        }
      ]
    },
    {
      "cell_type": "markdown",
      "metadata": {
        "_uuid": "596c9e08761d5777b2b874c4d2d9b28b47232d54",
        "id": "xYZMl15O9lAn"
      },
      "source": [
        "Looking at the diagrams above we can conclude that:\n",
        "1. People who subscribed for term deposit tend to have greater balance and age values.\n",
        "2. People who subscribed for term deposit tend to have fewer number of contacts during this campaign."
      ]
    },
    {
      "cell_type": "markdown",
      "metadata": {
        "_uuid": "657dfa956c6703fb3c1b404ffbb01884a33994af",
        "id": "2T5elRI-9lAn"
      },
      "source": [
        "## Data Cleaning"
      ]
    },
    {
      "cell_type": "markdown",
      "metadata": {
        "_uuid": "da23d974653a9c7dfbd887ab2dc20e7e97eb01d0",
        "id": "6vPrg9g19lAo"
      },
      "source": [
        "Before we will be able to apply machine learning techniques, we should prepare the dataset for processing:\n",
        "1. Convert columns with 'yes' and 'no' values to boolean columns;\n",
        "2. Convert categorical columns into dummy variables."
      ]
    },
    {
      "cell_type": "code",
      "metadata": {
        "_uuid": "c36ceee61029e8698e08b76fe2204b7e9c0284f5",
        "id": "JCqdlQzc9lAo"
      },
      "source": [
        "def get_dummy_from_bool(row, column_name):\n",
        "    ''' Returns 0 if value in column_name is no, returns 1 if value in column_name is yes'''\n",
        "    return 1 if row[column_name] == 'yes' else 0\n",
        "\n",
        "def get_correct_values(row, column_name, threshold, df):\n",
        "    ''' Returns mean value if value in column_name is above threshold'''\n",
        "    if row[column_name] <= threshold:\n",
        "        return row[column_name]\n",
        "    else:\n",
        "        mean = df[df[column_name] <= threshold][column_name].mean()\n",
        "        return mean\n",
        "\n",
        "def clean_data(df):\n",
        "    '''\n",
        "    INPUT\n",
        "    df - pandas dataframe containing bank marketing campaign dataset\n",
        "    \n",
        "    OUTPUT\n",
        "    df - cleaned dataset:\n",
        "    1. columns with 'yes' and 'no' values are converted into boolean variables;\n",
        "    2. categorical columns are converted into dummy variables;\n",
        "    3. drop irrelevant columns.\n",
        "    4. impute incorrect values\n",
        "    '''\n",
        "    \n",
        "    cleaned_df = df.copy()\n",
        "    \n",
        "    #convert columns containing 'yes' and 'no' values to boolean variables and drop original columns\n",
        "    bool_columns = ['default', 'housing', 'loan', 'deposit']\n",
        "    for bool_col in bool_columns:\n",
        "        cleaned_df[bool_col + '_bool'] = df.apply(lambda row: get_dummy_from_bool(row, bool_col),axis=1)\n",
        "    \n",
        "    cleaned_df = cleaned_df.drop(columns = bool_columns)\n",
        "    \n",
        "    #convert categorical columns to dummies\n",
        "    cat_columns = ['job', 'marital', 'education', 'contact', 'month', 'poutcome']\n",
        "    \n",
        "    for col in  cat_columns:\n",
        "        cleaned_df = pd.concat([cleaned_df.drop(col, axis=1),\n",
        "                                pd.get_dummies(cleaned_df[col], prefix=col, prefix_sep='_',\n",
        "                                               drop_first=True, dummy_na=False)], axis=1)\n",
        "    \n",
        "    #drop irrelevant columns\n",
        "    cleaned_df = cleaned_df.drop(columns = ['pdays'])\n",
        "    \n",
        "    #impute incorrect values and drop original columns\n",
        "    cleaned_df['campaign_cleaned'] = df.apply(lambda row: get_correct_values(row, 'campaign', 34, cleaned_df),axis=1)\n",
        "    cleaned_df['previous_cleaned'] = df.apply(lambda row: get_correct_values(row, 'previous', 34, cleaned_df),axis=1)\n",
        "    \n",
        "    cleaned_df = cleaned_df.drop(columns = ['campaign', 'previous'])\n",
        "    \n",
        "    return cleaned_df"
      ],
      "execution_count": 27,
      "outputs": []
    },
    {
      "cell_type": "code",
      "metadata": {
        "_uuid": "c84260944095766b196e084185bb07c451162524",
        "id": "2fdcDN_U9lAo",
        "colab": {
          "base_uri": "https://localhost:8080/",
          "height": 243
        },
        "outputId": "78a07071-c64e-4b0e-c91f-f87163be8238"
      },
      "source": [
        "#clean the dataset\n",
        "cleaned_df = clean_data(df)\n",
        "cleaned_df.head()"
      ],
      "execution_count": 28,
      "outputs": [
        {
          "output_type": "execute_result",
          "data": {
            "text/html": [
              "<div>\n",
              "<style scoped>\n",
              "    .dataframe tbody tr th:only-of-type {\n",
              "        vertical-align: middle;\n",
              "    }\n",
              "\n",
              "    .dataframe tbody tr th {\n",
              "        vertical-align: top;\n",
              "    }\n",
              "\n",
              "    .dataframe thead th {\n",
              "        text-align: right;\n",
              "    }\n",
              "</style>\n",
              "<table border=\"1\" class=\"dataframe\">\n",
              "  <thead>\n",
              "    <tr style=\"text-align: right;\">\n",
              "      <th></th>\n",
              "      <th>age</th>\n",
              "      <th>balance</th>\n",
              "      <th>day</th>\n",
              "      <th>duration</th>\n",
              "      <th>default_bool</th>\n",
              "      <th>housing_bool</th>\n",
              "      <th>loan_bool</th>\n",
              "      <th>deposit_bool</th>\n",
              "      <th>job_blue-collar</th>\n",
              "      <th>job_entrepreneur</th>\n",
              "      <th>job_housemaid</th>\n",
              "      <th>job_management</th>\n",
              "      <th>job_retired</th>\n",
              "      <th>job_self-employed</th>\n",
              "      <th>job_services</th>\n",
              "      <th>job_student</th>\n",
              "      <th>job_technician</th>\n",
              "      <th>job_unemployed</th>\n",
              "      <th>job_unknown</th>\n",
              "      <th>marital_married</th>\n",
              "      <th>marital_single</th>\n",
              "      <th>education_secondary</th>\n",
              "      <th>education_tertiary</th>\n",
              "      <th>education_unknown</th>\n",
              "      <th>contact_telephone</th>\n",
              "      <th>contact_unknown</th>\n",
              "      <th>month_aug</th>\n",
              "      <th>month_dec</th>\n",
              "      <th>month_feb</th>\n",
              "      <th>month_jan</th>\n",
              "      <th>month_jul</th>\n",
              "      <th>month_jun</th>\n",
              "      <th>month_mar</th>\n",
              "      <th>month_may</th>\n",
              "      <th>month_nov</th>\n",
              "      <th>month_oct</th>\n",
              "      <th>month_sep</th>\n",
              "      <th>poutcome_other</th>\n",
              "      <th>poutcome_success</th>\n",
              "      <th>poutcome_unknown</th>\n",
              "      <th>campaign_cleaned</th>\n",
              "      <th>previous_cleaned</th>\n",
              "    </tr>\n",
              "  </thead>\n",
              "  <tbody>\n",
              "    <tr>\n",
              "      <th>0</th>\n",
              "      <td>30</td>\n",
              "      <td>1787</td>\n",
              "      <td>19</td>\n",
              "      <td>79</td>\n",
              "      <td>0</td>\n",
              "      <td>0</td>\n",
              "      <td>0</td>\n",
              "      <td>0</td>\n",
              "      <td>0</td>\n",
              "      <td>0</td>\n",
              "      <td>0</td>\n",
              "      <td>0</td>\n",
              "      <td>0</td>\n",
              "      <td>0</td>\n",
              "      <td>0</td>\n",
              "      <td>0</td>\n",
              "      <td>0</td>\n",
              "      <td>1</td>\n",
              "      <td>0</td>\n",
              "      <td>1</td>\n",
              "      <td>0</td>\n",
              "      <td>0</td>\n",
              "      <td>0</td>\n",
              "      <td>0</td>\n",
              "      <td>0</td>\n",
              "      <td>0</td>\n",
              "      <td>0</td>\n",
              "      <td>0</td>\n",
              "      <td>0</td>\n",
              "      <td>0</td>\n",
              "      <td>0</td>\n",
              "      <td>0</td>\n",
              "      <td>0</td>\n",
              "      <td>0</td>\n",
              "      <td>0</td>\n",
              "      <td>1</td>\n",
              "      <td>0</td>\n",
              "      <td>0</td>\n",
              "      <td>0</td>\n",
              "      <td>1</td>\n",
              "      <td>1.0</td>\n",
              "      <td>0</td>\n",
              "    </tr>\n",
              "    <tr>\n",
              "      <th>1</th>\n",
              "      <td>33</td>\n",
              "      <td>4789</td>\n",
              "      <td>11</td>\n",
              "      <td>220</td>\n",
              "      <td>0</td>\n",
              "      <td>1</td>\n",
              "      <td>1</td>\n",
              "      <td>0</td>\n",
              "      <td>0</td>\n",
              "      <td>0</td>\n",
              "      <td>0</td>\n",
              "      <td>0</td>\n",
              "      <td>0</td>\n",
              "      <td>0</td>\n",
              "      <td>1</td>\n",
              "      <td>0</td>\n",
              "      <td>0</td>\n",
              "      <td>0</td>\n",
              "      <td>0</td>\n",
              "      <td>1</td>\n",
              "      <td>0</td>\n",
              "      <td>1</td>\n",
              "      <td>0</td>\n",
              "      <td>0</td>\n",
              "      <td>0</td>\n",
              "      <td>0</td>\n",
              "      <td>0</td>\n",
              "      <td>0</td>\n",
              "      <td>0</td>\n",
              "      <td>0</td>\n",
              "      <td>0</td>\n",
              "      <td>0</td>\n",
              "      <td>0</td>\n",
              "      <td>1</td>\n",
              "      <td>0</td>\n",
              "      <td>0</td>\n",
              "      <td>0</td>\n",
              "      <td>0</td>\n",
              "      <td>0</td>\n",
              "      <td>0</td>\n",
              "      <td>1.0</td>\n",
              "      <td>4</td>\n",
              "    </tr>\n",
              "    <tr>\n",
              "      <th>2</th>\n",
              "      <td>35</td>\n",
              "      <td>1350</td>\n",
              "      <td>16</td>\n",
              "      <td>185</td>\n",
              "      <td>0</td>\n",
              "      <td>1</td>\n",
              "      <td>0</td>\n",
              "      <td>0</td>\n",
              "      <td>0</td>\n",
              "      <td>0</td>\n",
              "      <td>0</td>\n",
              "      <td>1</td>\n",
              "      <td>0</td>\n",
              "      <td>0</td>\n",
              "      <td>0</td>\n",
              "      <td>0</td>\n",
              "      <td>0</td>\n",
              "      <td>0</td>\n",
              "      <td>0</td>\n",
              "      <td>0</td>\n",
              "      <td>1</td>\n",
              "      <td>0</td>\n",
              "      <td>1</td>\n",
              "      <td>0</td>\n",
              "      <td>0</td>\n",
              "      <td>0</td>\n",
              "      <td>0</td>\n",
              "      <td>0</td>\n",
              "      <td>0</td>\n",
              "      <td>0</td>\n",
              "      <td>0</td>\n",
              "      <td>0</td>\n",
              "      <td>0</td>\n",
              "      <td>0</td>\n",
              "      <td>0</td>\n",
              "      <td>0</td>\n",
              "      <td>0</td>\n",
              "      <td>0</td>\n",
              "      <td>0</td>\n",
              "      <td>0</td>\n",
              "      <td>1.0</td>\n",
              "      <td>1</td>\n",
              "    </tr>\n",
              "    <tr>\n",
              "      <th>3</th>\n",
              "      <td>30</td>\n",
              "      <td>1476</td>\n",
              "      <td>3</td>\n",
              "      <td>199</td>\n",
              "      <td>0</td>\n",
              "      <td>1</td>\n",
              "      <td>1</td>\n",
              "      <td>0</td>\n",
              "      <td>0</td>\n",
              "      <td>0</td>\n",
              "      <td>0</td>\n",
              "      <td>1</td>\n",
              "      <td>0</td>\n",
              "      <td>0</td>\n",
              "      <td>0</td>\n",
              "      <td>0</td>\n",
              "      <td>0</td>\n",
              "      <td>0</td>\n",
              "      <td>0</td>\n",
              "      <td>1</td>\n",
              "      <td>0</td>\n",
              "      <td>0</td>\n",
              "      <td>1</td>\n",
              "      <td>0</td>\n",
              "      <td>0</td>\n",
              "      <td>1</td>\n",
              "      <td>0</td>\n",
              "      <td>0</td>\n",
              "      <td>0</td>\n",
              "      <td>0</td>\n",
              "      <td>0</td>\n",
              "      <td>1</td>\n",
              "      <td>0</td>\n",
              "      <td>0</td>\n",
              "      <td>0</td>\n",
              "      <td>0</td>\n",
              "      <td>0</td>\n",
              "      <td>0</td>\n",
              "      <td>0</td>\n",
              "      <td>1</td>\n",
              "      <td>4.0</td>\n",
              "      <td>0</td>\n",
              "    </tr>\n",
              "    <tr>\n",
              "      <th>4</th>\n",
              "      <td>59</td>\n",
              "      <td>0</td>\n",
              "      <td>5</td>\n",
              "      <td>226</td>\n",
              "      <td>0</td>\n",
              "      <td>1</td>\n",
              "      <td>0</td>\n",
              "      <td>0</td>\n",
              "      <td>1</td>\n",
              "      <td>0</td>\n",
              "      <td>0</td>\n",
              "      <td>0</td>\n",
              "      <td>0</td>\n",
              "      <td>0</td>\n",
              "      <td>0</td>\n",
              "      <td>0</td>\n",
              "      <td>0</td>\n",
              "      <td>0</td>\n",
              "      <td>0</td>\n",
              "      <td>1</td>\n",
              "      <td>0</td>\n",
              "      <td>1</td>\n",
              "      <td>0</td>\n",
              "      <td>0</td>\n",
              "      <td>0</td>\n",
              "      <td>1</td>\n",
              "      <td>0</td>\n",
              "      <td>0</td>\n",
              "      <td>0</td>\n",
              "      <td>0</td>\n",
              "      <td>0</td>\n",
              "      <td>0</td>\n",
              "      <td>0</td>\n",
              "      <td>1</td>\n",
              "      <td>0</td>\n",
              "      <td>0</td>\n",
              "      <td>0</td>\n",
              "      <td>0</td>\n",
              "      <td>0</td>\n",
              "      <td>1</td>\n",
              "      <td>1.0</td>\n",
              "      <td>0</td>\n",
              "    </tr>\n",
              "  </tbody>\n",
              "</table>\n",
              "</div>"
            ],
            "text/plain": [
              "   age  balance  day  ...  poutcome_unknown  campaign_cleaned  previous_cleaned\n",
              "0   30     1787   19  ...                 1               1.0                 0\n",
              "1   33     4789   11  ...                 0               1.0                 4\n",
              "2   35     1350   16  ...                 0               1.0                 1\n",
              "3   30     1476    3  ...                 1               4.0                 0\n",
              "4   59        0    5  ...                 1               1.0                 0\n",
              "\n",
              "[5 rows x 42 columns]"
            ]
          },
          "metadata": {},
          "execution_count": 28
        }
      ]
    },
    {
      "cell_type": "markdown",
      "metadata": {
        "_uuid": "0a4fc6fd14ff5a65e5eefe9a5bea4b11197ab6fd",
        "id": "UAQSUJK79lAo"
      },
      "source": [
        "## Machine Learning for prediction of campaign outcome"
      ]
    },
    {
      "cell_type": "markdown",
      "metadata": {
        "_uuid": "8a617cd9aa39122d61abd8df841090ea3ca16879",
        "id": "v6cqh7EZ9lAo"
      },
      "source": [
        "### Classification model for the campaign outcome prediction"
      ]
    },
    {
      "cell_type": "markdown",
      "metadata": {
        "_uuid": "66170b27e3a272832669d83613ea334f2c5569d5",
        "id": "heh5cEid9lAp"
      },
      "source": [
        "Now let's use cleaned datasets for prediction of campaign outcome with help of machine learning classification models. I will use __[XGBoost](https://xgboost.readthedocs.io/en/latest/)__, which is one of the most common machine learning libraries for modelling.\n",
        "<br> Resulting model will also help me to understand, which features have the greatest importance for the prediction of the results of the campaing."
      ]
    },
    {
      "cell_type": "markdown",
      "metadata": {
        "_uuid": "ab39af0090df8afdf4ec9128a2088fcef8d4d104",
        "id": "LOeTExFU9lAp"
      },
      "source": [
        "Create X and y datasets for training the model and split into train and test datasets."
      ]
    },
    {
      "cell_type": "code",
      "metadata": {
        "_uuid": "e94b914d643f707996906176ba0b7d71f1e00c8e",
        "id": "0SoR6MJW9lAp"
      },
      "source": [
        "X = cleaned_df.drop(columns = 'deposit_bool')\n",
        "y = cleaned_df[['deposit_bool']]"
      ],
      "execution_count": 29,
      "outputs": []
    },
    {
      "cell_type": "code",
      "metadata": {
        "_uuid": "69fa180ae0a9fa806c9584737d810ac126d39770",
        "id": "tl0MKpqG9lAp"
      },
      "source": [
        "TEST_SIZE = 0.3\n",
        "RAND_STATE = 42"
      ],
      "execution_count": 30,
      "outputs": []
    },
    {
      "cell_type": "code",
      "metadata": {
        "_uuid": "881629ad927241dcf1251f5195a1a7ebdadbc8bc",
        "id": "sdoND8Zl9lAp"
      },
      "source": [
        "from sklearn.model_selection import train_test_split\n",
        "X_train, X_test, y_train, y_test = train_test_split(X, y, test_size = TEST_SIZE, random_state=RAND_STATE)"
      ],
      "execution_count": 31,
      "outputs": []
    },
    {
      "cell_type": "code",
      "metadata": {
        "_uuid": "15b081cfefb3b7467b8ea29100464b0698f992b9",
        "id": "GkFPDhB69lAq"
      },
      "source": [
        "import xgboost\n",
        "\n",
        "#train XGBoost model\n",
        "xgb = xgboost.XGBClassifier(n_estimators=100, learning_rate=0.08, gamma=0, subsample=0.75,\n",
        "                           colsample_bytree=1, max_depth=7)"
      ],
      "execution_count": 32,
      "outputs": []
    },
    {
      "cell_type": "code",
      "metadata": {
        "id": "NBMaRHhh9lAq",
        "colab": {
          "base_uri": "https://localhost:8080/"
        },
        "outputId": "ee70f9e4-dd19-4cc2-e25c-c4019294227b"
      },
      "source": [
        "xgb.fit(X_train, y_train.squeeze().values)"
      ],
      "execution_count": 33,
      "outputs": [
        {
          "output_type": "execute_result",
          "data": {
            "text/plain": [
              "XGBClassifier(base_score=0.5, booster='gbtree', colsample_bylevel=1,\n",
              "              colsample_bynode=1, colsample_bytree=1, gamma=0,\n",
              "              learning_rate=0.08, max_delta_step=0, max_depth=7,\n",
              "              min_child_weight=1, missing=None, n_estimators=100, n_jobs=1,\n",
              "              nthread=None, objective='binary:logistic', random_state=0,\n",
              "              reg_alpha=0, reg_lambda=1, scale_pos_weight=1, seed=None,\n",
              "              silent=None, subsample=0.75, verbosity=1)"
            ]
          },
          "metadata": {},
          "execution_count": 33
        }
      ]
    },
    {
      "cell_type": "code",
      "metadata": {
        "id": "Ivz9N20e9lAq"
      },
      "source": [
        "y_train_preds = xgb.predict(X_train)\n",
        "y_test_preds = xgb.predict(X_test)"
      ],
      "execution_count": 34,
      "outputs": []
    },
    {
      "cell_type": "code",
      "metadata": {
        "id": "L_zelD9F9lAq",
        "colab": {
          "base_uri": "https://localhost:8080/"
        },
        "outputId": "ef431597-9c02-4803-fde6-88d1f3b9fe55"
      },
      "source": [
        "from sklearn.metrics import accuracy_score\n",
        "print('XGB accuracy score ofr train : %.3f and for test: %.3f' % (accuracy_score(y_train, y_train_preds),\n",
        "                                                                 accuracy_score(y_test, y_test_preds)))"
      ],
      "execution_count": 35,
      "outputs": [
        {
          "output_type": "stream",
          "name": "stdout",
          "text": [
            "XGB accuracy score ofr train : 0.977 and for test: 0.897\n"
          ]
        }
      ]
    },
    {
      "cell_type": "markdown",
      "metadata": {
        "id": "MPUn0U069lAq"
      },
      "source": [
        "### Get feature importance from the trained model"
      ]
    },
    {
      "cell_type": "code",
      "metadata": {
        "id": "mVuJvRN79lAr",
        "colab": {
          "base_uri": "https://localhost:8080/",
          "height": 1000
        },
        "outputId": "43eba950-5850-4e7e-d162-6f470d7bbb83"
      },
      "source": [
        "headers = ['name', 'score']\n",
        "values = sorted(zip(X_train.columns, xgb.feature_importances_), key=lambda x: x[1]*-1)\n",
        "xgb_feature_importances_ = pd.DataFrame(values, columns=headers)\n",
        "xgb_feature_importances_"
      ],
      "execution_count": 36,
      "outputs": [
        {
          "output_type": "execute_result",
          "data": {
            "text/html": [
              "<div>\n",
              "<style scoped>\n",
              "    .dataframe tbody tr th:only-of-type {\n",
              "        vertical-align: middle;\n",
              "    }\n",
              "\n",
              "    .dataframe tbody tr th {\n",
              "        vertical-align: top;\n",
              "    }\n",
              "\n",
              "    .dataframe thead th {\n",
              "        text-align: right;\n",
              "    }\n",
              "</style>\n",
              "<table border=\"1\" class=\"dataframe\">\n",
              "  <thead>\n",
              "    <tr style=\"text-align: right;\">\n",
              "      <th></th>\n",
              "      <th>name</th>\n",
              "      <th>score</th>\n",
              "    </tr>\n",
              "  </thead>\n",
              "  <tbody>\n",
              "    <tr>\n",
              "      <th>0</th>\n",
              "      <td>poutcome_success</td>\n",
              "      <td>0.117625</td>\n",
              "    </tr>\n",
              "    <tr>\n",
              "      <th>1</th>\n",
              "      <td>month_oct</td>\n",
              "      <td>0.047365</td>\n",
              "    </tr>\n",
              "    <tr>\n",
              "      <th>2</th>\n",
              "      <td>duration</td>\n",
              "      <td>0.046050</td>\n",
              "    </tr>\n",
              "    <tr>\n",
              "      <th>3</th>\n",
              "      <td>contact_unknown</td>\n",
              "      <td>0.040910</td>\n",
              "    </tr>\n",
              "    <tr>\n",
              "      <th>4</th>\n",
              "      <td>month_jun</td>\n",
              "      <td>0.039137</td>\n",
              "    </tr>\n",
              "    <tr>\n",
              "      <th>5</th>\n",
              "      <td>month_mar</td>\n",
              "      <td>0.035598</td>\n",
              "    </tr>\n",
              "    <tr>\n",
              "      <th>6</th>\n",
              "      <td>month_jan</td>\n",
              "      <td>0.032380</td>\n",
              "    </tr>\n",
              "    <tr>\n",
              "      <th>7</th>\n",
              "      <td>month_may</td>\n",
              "      <td>0.030285</td>\n",
              "    </tr>\n",
              "    <tr>\n",
              "      <th>8</th>\n",
              "      <td>default_bool</td>\n",
              "      <td>0.029443</td>\n",
              "    </tr>\n",
              "    <tr>\n",
              "      <th>9</th>\n",
              "      <td>previous_cleaned</td>\n",
              "      <td>0.025304</td>\n",
              "    </tr>\n",
              "    <tr>\n",
              "      <th>10</th>\n",
              "      <td>month_nov</td>\n",
              "      <td>0.024874</td>\n",
              "    </tr>\n",
              "    <tr>\n",
              "      <th>11</th>\n",
              "      <td>contact_telephone</td>\n",
              "      <td>0.024185</td>\n",
              "    </tr>\n",
              "    <tr>\n",
              "      <th>12</th>\n",
              "      <td>month_feb</td>\n",
              "      <td>0.024173</td>\n",
              "    </tr>\n",
              "    <tr>\n",
              "      <th>13</th>\n",
              "      <td>loan_bool</td>\n",
              "      <td>0.024031</td>\n",
              "    </tr>\n",
              "    <tr>\n",
              "      <th>14</th>\n",
              "      <td>month_jul</td>\n",
              "      <td>0.023361</td>\n",
              "    </tr>\n",
              "    <tr>\n",
              "      <th>15</th>\n",
              "      <td>month_aug</td>\n",
              "      <td>0.022988</td>\n",
              "    </tr>\n",
              "    <tr>\n",
              "      <th>16</th>\n",
              "      <td>job_housemaid</td>\n",
              "      <td>0.022609</td>\n",
              "    </tr>\n",
              "    <tr>\n",
              "      <th>17</th>\n",
              "      <td>job_student</td>\n",
              "      <td>0.022034</td>\n",
              "    </tr>\n",
              "    <tr>\n",
              "      <th>18</th>\n",
              "      <td>education_unknown</td>\n",
              "      <td>0.021776</td>\n",
              "    </tr>\n",
              "    <tr>\n",
              "      <th>19</th>\n",
              "      <td>education_tertiary</td>\n",
              "      <td>0.021672</td>\n",
              "    </tr>\n",
              "    <tr>\n",
              "      <th>20</th>\n",
              "      <td>job_retired</td>\n",
              "      <td>0.021041</td>\n",
              "    </tr>\n",
              "    <tr>\n",
              "      <th>21</th>\n",
              "      <td>job_blue-collar</td>\n",
              "      <td>0.019965</td>\n",
              "    </tr>\n",
              "    <tr>\n",
              "      <th>22</th>\n",
              "      <td>job_unemployed</td>\n",
              "      <td>0.019343</td>\n",
              "    </tr>\n",
              "    <tr>\n",
              "      <th>23</th>\n",
              "      <td>housing_bool</td>\n",
              "      <td>0.019222</td>\n",
              "    </tr>\n",
              "    <tr>\n",
              "      <th>24</th>\n",
              "      <td>marital_married</td>\n",
              "      <td>0.018942</td>\n",
              "    </tr>\n",
              "    <tr>\n",
              "      <th>25</th>\n",
              "      <td>month_sep</td>\n",
              "      <td>0.018714</td>\n",
              "    </tr>\n",
              "    <tr>\n",
              "      <th>26</th>\n",
              "      <td>day</td>\n",
              "      <td>0.018683</td>\n",
              "    </tr>\n",
              "    <tr>\n",
              "      <th>27</th>\n",
              "      <td>poutcome_unknown</td>\n",
              "      <td>0.018391</td>\n",
              "    </tr>\n",
              "    <tr>\n",
              "      <th>28</th>\n",
              "      <td>age</td>\n",
              "      <td>0.018318</td>\n",
              "    </tr>\n",
              "    <tr>\n",
              "      <th>29</th>\n",
              "      <td>balance</td>\n",
              "      <td>0.018218</td>\n",
              "    </tr>\n",
              "    <tr>\n",
              "      <th>30</th>\n",
              "      <td>job_entrepreneur</td>\n",
              "      <td>0.017568</td>\n",
              "    </tr>\n",
              "    <tr>\n",
              "      <th>31</th>\n",
              "      <td>marital_single</td>\n",
              "      <td>0.015990</td>\n",
              "    </tr>\n",
              "    <tr>\n",
              "      <th>32</th>\n",
              "      <td>job_self-employed</td>\n",
              "      <td>0.015724</td>\n",
              "    </tr>\n",
              "    <tr>\n",
              "      <th>33</th>\n",
              "      <td>campaign_cleaned</td>\n",
              "      <td>0.015621</td>\n",
              "    </tr>\n",
              "    <tr>\n",
              "      <th>34</th>\n",
              "      <td>education_secondary</td>\n",
              "      <td>0.014943</td>\n",
              "    </tr>\n",
              "    <tr>\n",
              "      <th>35</th>\n",
              "      <td>poutcome_other</td>\n",
              "      <td>0.014707</td>\n",
              "    </tr>\n",
              "    <tr>\n",
              "      <th>36</th>\n",
              "      <td>job_management</td>\n",
              "      <td>0.014077</td>\n",
              "    </tr>\n",
              "    <tr>\n",
              "      <th>37</th>\n",
              "      <td>job_services</td>\n",
              "      <td>0.012947</td>\n",
              "    </tr>\n",
              "    <tr>\n",
              "      <th>38</th>\n",
              "      <td>job_technician</td>\n",
              "      <td>0.011782</td>\n",
              "    </tr>\n",
              "    <tr>\n",
              "      <th>39</th>\n",
              "      <td>job_unknown</td>\n",
              "      <td>0.000000</td>\n",
              "    </tr>\n",
              "    <tr>\n",
              "      <th>40</th>\n",
              "      <td>month_dec</td>\n",
              "      <td>0.000000</td>\n",
              "    </tr>\n",
              "  </tbody>\n",
              "</table>\n",
              "</div>"
            ],
            "text/plain": [
              "                   name     score\n",
              "0      poutcome_success  0.117625\n",
              "1             month_oct  0.047365\n",
              "2              duration  0.046050\n",
              "3       contact_unknown  0.040910\n",
              "4             month_jun  0.039137\n",
              "5             month_mar  0.035598\n",
              "6             month_jan  0.032380\n",
              "7             month_may  0.030285\n",
              "8          default_bool  0.029443\n",
              "9      previous_cleaned  0.025304\n",
              "10            month_nov  0.024874\n",
              "11    contact_telephone  0.024185\n",
              "12            month_feb  0.024173\n",
              "13            loan_bool  0.024031\n",
              "14            month_jul  0.023361\n",
              "15            month_aug  0.022988\n",
              "16        job_housemaid  0.022609\n",
              "17          job_student  0.022034\n",
              "18    education_unknown  0.021776\n",
              "19   education_tertiary  0.021672\n",
              "20          job_retired  0.021041\n",
              "21      job_blue-collar  0.019965\n",
              "22       job_unemployed  0.019343\n",
              "23         housing_bool  0.019222\n",
              "24      marital_married  0.018942\n",
              "25            month_sep  0.018714\n",
              "26                  day  0.018683\n",
              "27     poutcome_unknown  0.018391\n",
              "28                  age  0.018318\n",
              "29              balance  0.018218\n",
              "30     job_entrepreneur  0.017568\n",
              "31       marital_single  0.015990\n",
              "32    job_self-employed  0.015724\n",
              "33     campaign_cleaned  0.015621\n",
              "34  education_secondary  0.014943\n",
              "35       poutcome_other  0.014707\n",
              "36       job_management  0.014077\n",
              "37         job_services  0.012947\n",
              "38       job_technician  0.011782\n",
              "39          job_unknown  0.000000\n",
              "40            month_dec  0.000000"
            ]
          },
          "metadata": {},
          "execution_count": 36
        }
      ]
    },
    {
      "cell_type": "code",
      "metadata": {
        "id": "HNgaRn7I9lAr",
        "colab": {
          "base_uri": "https://localhost:8080/",
          "height": 378
        },
        "outputId": "9163566b-5a17-4199-9cd8-763d689f77d5"
      },
      "source": [
        "x_pos = np.arange(0, len(xgb_feature_importances_))\n",
        "plt.bar(x_pos, xgb_feature_importances_['score'])\n",
        "plt.xticks(x_pos, xgb_feature_importances_['name'])\n",
        "plt.xticks(rotation=90)\n",
        "plt.title('Feature Importance (XGB)')\n",
        "\n",
        "plt.show()"
      ],
      "execution_count": 37,
      "outputs": [
        {
          "output_type": "display_data",
          "data": {
            "image/png": "[encoded data removed]",
            "text/plain": [
              "<Figure size 432x288 with 1 Axes>"
            ]
          },
          "metadata": {
            "needs_background": "light"
          }
        }
      ]
    },
    {
      "cell_type": "code",
      "metadata": {
        "id": "3EKS-Lrj9lAr"
      },
      "source": [
        ""
      ],
      "execution_count": null,
      "outputs": []
    }
  ]
}